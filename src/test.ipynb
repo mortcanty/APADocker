{
 "cells": [
  {
   "cell_type": "code",
   "execution_count": 1,
   "metadata": {
    "collapsed": false
   },
   "outputs": [],
   "source": [
    "import networkx as nx\n",
    "import matplotlib.pyplot as plt\n",
    "import apa\n",
    "from numpy import *\n",
    "%matplotlib inline"
   ]
  },
  {
   "cell_type": "code",
   "execution_count": 88,
   "metadata": {
    "collapsed": false
   },
   "outputs": [],
   "source": [
    "G = nx.MultiDiGraph()\n",
    "us = random.rand(7)\n",
    "G.add_weighted_edges_from([(0,1,us[0]),(1,3,us[1]),(1,3,us[2]),(0,2,us[3]),(2,4,us[4]),(4,5,us[5]),(4,6,us[6])])"
   ]
  },
  {
   "cell_type": "code",
   "execution_count": 89,
   "metadata": {
    "collapsed": false
   },
   "outputs": [
    {
     "data": {
      "image/png": "[encoded data removed]",
      "text/plain": [
       "<matplotlib.figure.Figure at 0x7fa3ad8785d0>"
      ]
     },
     "metadata": {},
     "output_type": "display_data"
    }
   ],
   "source": [
    "nx.draw_networkx(G,with_labels=True)"
   ]
  },
  {
   "cell_type": "code",
   "execution_count": 120,
   "metadata": {
    "collapsed": false
   },
   "outputs": [
    {
     "name": "stdout",
     "output_type": "stream",
     "text": [
      "[[0, 1, 3], [0, 1, 3], [0, 2, 4, 5], [0, 2, 4, 6]]\n"
     ]
    }
   ],
   "source": [
    "paths1 = nx.all_simple_paths(G,0,3)\n",
    "paths2 = nx.all_simple_paths(G,0,5)\n",
    "paths3 = nx.all_simple_paths(G,0,6)\n",
    "paths = []\n",
    "for path in paths1:\n",
    "    paths.append(path) \n",
    "for path in paths2:\n",
    "    paths.append(path) \n",
    "for path in paths3:\n",
    "    paths.append(path)     \n",
    "print paths    "
   ]
  },
  {
   "cell_type": "code",
   "execution_count": 115,
   "metadata": {
    "collapsed": false
   },
   "outputs": [
    {
     "name": "stdout",
     "output_type": "stream",
     "text": [
      "{(0, 2, 0): 0.81387319884730203, (2, 4, 0): 0.89698147605727252, (1, 3, 1): 0.37757034796095823, (4, 5, 0): 0.86275030977201705, (1, 3, 0): 0.010018092441088089, (4, 6, 0): 0.10030315988809468, (0, 1, 0): 0.080484633700902863}\n",
      "(0, 1) 0.0804846337009\n",
      "(0, 2) 0.813873198847\n",
      "(1, 3) 0.0100180924411\n",
      "(1, 3) 0.0100180924411\n",
      "(2, 4) 0.896981476057\n",
      "(4, 5) 0.862750309772\n",
      "(4, 6) 0.100303159888\n"
     ]
    }
   ],
   "source": [
    "edges = nx.edges_iter(G)\n",
    "weights = nx.get_edge_attributes(G,'weight')\n",
    "print weights\n",
    "for edge in edges:\n",
    "    key = (edge[0],edge[1],0)\n",
    "    print edge, weights[key]"
   ]
  },
  {
   "cell_type": "code",
   "execution_count": 11,
   "metadata": {
    "collapsed": false
   },
   "outputs": [
    {
     "name": "stdout",
     "output_type": "stream",
     "text": [
      "Enumerating feasible undominated inspection strategies ...\n",
      "Largest inspection strategy has 1 activities\n",
      "length: 1 cumulative inspectorate strategies: 1\n",
      "Building bimatrix...\n",
      "Calling nashEquilibria ...\n",
      "Found 1 equilibria\n",
      "equlibrium 1 --------------\n",
      "P:\n",
      "[2] 1\n",
      "Q:\n",
      "[ 0.  1.  0.]\n",
      "H1 = -100.050000, H2 = 7.450000\n"
     ]
    }
   ],
   "source": [
    "edges = 3\n",
    "betas = random.rand(edges)*0.5 \n",
    "alphas = zeros(edges)+0.05\n",
    "ws = [1,1,0.5]\n",
    "W = 0.6\n",
    "ps = [(1,2),(1,3)]\n",
    "ls = [1.5,2]\n",
    "Ks, eqs = apa.APA(ps,ls,betas,alphas,ws,W,select='all')\n",
    "print 'Found %i equilibria'%len(eqs)\n",
    "k = 1\n",
    "for eq in eqs:\n",
    "    print 'equlibrium %i --------------'%k\n",
    "    P = eq[0]\n",
    "    H1 = eq[1]\n",
    "    Q = array(eq[2])*100\n",
    "    H2 = eq[3]\n",
    "    print 'P:'\n",
    "    for i in range(len(Ks)):\n",
    "        if P[i] != 0:\n",
    "            print Ks[i], P[i]\n",
    "    print 'Q:'\n",
    "    print array(map(round,Q))/100.\n",
    "    print 'H1 = %f, H2 = %f'%(H1,H2)\n",
    "    k += 1\n"
   ]
  },
  {
   "cell_type": "code",
   "execution_count": null,
   "metadata": {
    "collapsed": true
   },
   "outputs": [],
   "source": []
  }
 ],
 "metadata": {
  "kernelspec": {
   "display_name": "Python 2",
   "language": "python",
   "name": "python2"
  },
  "language_info": {
   "codemirror_mode": {
    "name": "ipython",
    "version": 2
   },
   "file_extension": ".py",
   "mimetype": "text/x-python",
   "name": "python",
   "nbconvert_exporter": "python",
   "pygments_lexer": "ipython2",
   "version": "2.7.9"
  }
 },
 "nbformat": 4,
 "nbformat_minor": 0
}
